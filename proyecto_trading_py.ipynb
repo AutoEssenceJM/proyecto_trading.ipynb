{
  "nbformat": 4,
  "nbformat_minor": 0,
  "metadata": {
    "colab": {
      "provenance": [],
      "authorship_tag": "ABX9TyNftxWK4g18T2lhB7SYGCO/",
      "include_colab_link": true
    },
    "kernelspec": {
      "name": "python3",
      "display_name": "Python 3"
    },
    "language_info": {
      "name": "python"
    }
  },
  "cells": [
    {
      "cell_type": "markdown",
      "metadata": {
        "id": "view-in-github",
        "colab_type": "text"
      },
      "source": [
        "<a href=\"https://colab.research.google.com/github/AutoEssenceJM/proyecto_trading.ipynb/blob/main/proyecto_trading_py.ipynb\" target=\"_parent\"><img src=\"https://colab.research.google.com/assets/colab-badge.svg\" alt=\"Open In Colab\"/></a>"
      ]
    },
    {
      "cell_type": "code",
      "source": [
        "# =========================\n",
        "# MVP: Señales técnicas simples para SPY (S&P500 ETF)\n",
        "# Pega todo esto en Google Colab y ejecútalo.\n",
        "# =========================\n",
        "# Celda A: instalar dependencias (ejecutar UNA vez)\n",
        "!pip install yfinance ta mplfinance --quiet\n",
        "# Si ya tenías pandas_ta instalado no es necesario desinstalarlo,\n",
        "# pero si quieres limpiar: !pip uninstall -y pandas_ta\n"
      ],
      "metadata": {
        "id": "f5mszyaNu4vX"
      },
      "execution_count": null,
      "outputs": []
    },
    {
      "cell_type": "code",
      "source": [
        "import numpy as np\n",
        "print(\"numpy version:\", np.__version__)\n",
        "print(\"¿numpy tiene atributo 'NaN'?\", hasattr(np, 'NaN'))"
      ],
      "metadata": {
        "id": "Cwl192-buIRX"
      },
      "execution_count": null,
      "outputs": []
    },
    {
      "cell_type": "code",
      "source": [
        "# Celda B: imports y flujo principal (pegalo en Colab después de instalar y reiniciar el runtime)\n",
        "\n",
        "# 1) Imports básicos\n",
        "import yfinance as yf              # para descargar precios históricos (Yahoo Finance)\n",
        "import pandas as pd               # manipulación de dataframes\n",
        "from datetime import datetime     # para obtener fecha actual\n",
        "import mplfinance as mpf          # para graficar velas (candlesticks)"
      ],
      "metadata": {
        "id": "MsA8uMTivU-_"
      },
      "execution_count": null,
      "outputs": []
    },
    {
      "cell_type": "code",
      "source": [
        "# 2) Importar las clases de 'ta' que usaremos (RSI, MACD, SMA, ATR)\n",
        "from ta.trend import SMAIndicator, MACD\n",
        "from ta.momentum import RSIIndicator\n",
        "from ta.volatility import AverageTrueRange\n",
        "\n"
      ],
      "metadata": {
        "id": "MwZua5SSrmTQ"
      },
      "execution_count": null,
      "outputs": []
    },
    {
      "cell_type": "code",
      "source": [
        "# 3) Parámetros de ejemplo\n",
        "ticker = \"SPY\"  # ETF que replica el S&P 500\n",
        "start_date = \"2018-01-01\"\n",
        "end_date = datetime.today().strftime(\"%Y-%m-%d\")\n",
        "\n"
      ],
      "metadata": {
        "id": "QvRA9zs3rpRf"
      },
      "execution_count": null,
      "outputs": []
    },
    {
      "cell_type": "code",
      "source": [
        "\n",
        "# 4) Descargar datos OHLCV desde yfinance\n",
        "#    yfinance devuelve: Open, High, Low, Close, Adj Close, Volume\n",
        "df = yf.download(ticker, start=start_date, end=end_date, progress=False)\n",
        "print(\"Filas descargadas:\", len(df))\n",
        "\n"
      ],
      "metadata": {
        "id": "8KXvgxWGrsR_"
      },
      "execution_count": null,
      "outputs": []
    },
    {
      "cell_type": "code",
      "source": [
        "# 5) Limpieza mínima\n",
        "df = df.dropna()  # eliminar filas vacías (si hay)\n",
        "# Opcional: df = df.ffill()  # forward fill si hay huecos pequeños\n"
      ],
      "metadata": {
        "id": "lXaWMfttruj3"
      },
      "execution_count": null,
      "outputs": []
    },
    {
      "cell_type": "code",
      "source": [
        "# 6) Calcular indicadores con 'ta'\n",
        "# Forzamos a Serie 1-D usando .squeeze()\n",
        "close_series = df[\"Close\"].squeeze()\n",
        "\n",
        "# SMA 50 y SMA 200\n",
        "df[\"SMA50\"] = SMAIndicator(close=close_series, window=50, fillna=True).sma_indicator()\n",
        "df[\"SMA200\"] = SMAIndicator(close=close_series, window=200, fillna=True).sma_indicator()\n",
        "\n",
        "# RSI 14\n",
        "df[\"RSI14\"] = RSIIndicator(close=close_series, window=14, fillna=True).rsi()\n",
        "\n",
        "# MACD\n",
        "macd_obj = MACD(close=close_series, window_slow=26, window_fast=12, window_sign=9, fillna=True)\n",
        "df[\"MACD\"] = macd_obj.macd()\n",
        "df[\"MACD_signal\"] = macd_obj.macd_signal()\n",
        "df[\"MACD_hist\"] = macd_obj.macd_diff()\n",
        "\n",
        "# ATR 14\n",
        "df[\"ATR14\"] = AverageTrueRange(high=df[\"High\"].squeeze(),\n",
        "                               low=df[\"Low\"].squeeze(),\n",
        "                               close=close_series,\n",
        "                               window=14, fillna=True).average_true_range()\n",
        "\n",
        "\n",
        "\n"
      ],
      "metadata": {
        "id": "_GvSjDTXrw3_"
      },
      "execution_count": null,
      "outputs": []
    },
    {
      "cell_type": "code",
      "source": [
        "# 7) Generar señales simples (ejemplo educativo)\n",
        "#    Regla 1: Golden / Death cross (SMA50 vs SMA200)\n",
        "df[\"signal_gc\"] = 0\n",
        "df.loc[df[\"SMA50\"] > df[\"SMA200\"], \"signal_gc\"] = 1    # tendencia alcista (SMA50 arriba)\n",
        "df.loc[df[\"SMA50\"] < df[\"SMA200\"], \"signal_gc\"] = -1   # tendencia bajista\n",
        "\n",
        "#    Regla 2: RSI extremos\n",
        "df[\"signal_rsi\"] = 0\n",
        "df.loc[df[\"RSI14\"] < 30, \"signal_rsi\"] = 1    # posible compra (sobreventa)\n",
        "df.loc[df[\"RSI14\"] > 70, \"signal_rsi\"] = -1   # posible venta (sobrecompra)\n",
        "\n",
        "#    Señal combinada: ejemplo sencillo\n",
        "df[\"signal_combined\"] = 0\n",
        "df.loc[(df[\"signal_gc\"] == 1) & (df[\"RSI14\"] < 50), \"signal_combined\"] = 1   # compra\n",
        "df.loc[(df[\"signal_gc\"] == -1) & (df[\"RSI14\"] > 50), \"signal_combined\"] = -1 # venta\n",
        "\n"
      ],
      "metadata": {
        "id": "y93ZcW93r4F4"
      },
      "execution_count": null,
      "outputs": []
    },
    {
      "cell_type": "code",
      "source": [
        "# 8) Exportar señales a CSV para revisar fuera de Colab\n",
        "df_signals = df[[\"Close\", \"SMA50\", \"SMA200\", \"RSI14\", \"MACD\", \"MACD_signal\", \"ATR14\",\n",
        "                 \"signal_gc\", \"signal_rsi\", \"signal_combined\"]].copy()\n",
        "df_signals.to_csv(\"spy_signals_ta.csv\")\n",
        "print(\"Señales guardadas en spy_signals_ta.csv\")\n",
        "\n"
      ],
      "metadata": {
        "id": "DhMgGSQjr51f"
      },
      "execution_count": null,
      "outputs": []
    },
    {
      "cell_type": "code",
      "source": [
        "# Asegurar que las columnas son simples y numéricas\n",
        "# Si el DataFrame tiene columnas MultiIndex, las aplastamos\n",
        "if isinstance(df.columns, pd.MultiIndex):\n",
        "    df.columns = [col[0] for col in df.columns]\n",
        "\n",
        "# Convertir columnas OHLCV a float\n",
        "ohlcv_cols = [\"Open\", \"High\", \"Low\", \"Close\", \"Volume\"]\n",
        "df[ohlcv_cols] = df[ohlcv_cols].astype(float)\n"
      ],
      "metadata": {
        "id": "lNcUGFKwyVXr"
      },
      "execution_count": null,
      "outputs": []
    },
    {
      "cell_type": "code",
      "source": [
        "# 9) Graficar últimas 300 sesiones con mplfinance e incluir las SMA\n",
        "\n",
        "# Creamos un nuevo DF con solo las últimas 300 filas\n",
        "df_last = df.tail(300)\n",
        "\n",
        "# Definimos los addplot usando df_last, no el df completo\n",
        "apds = [\n",
        "    mpf.make_addplot(df_last[\"SMA50\"], panel=0),\n",
        "    mpf.make_addplot(df_last[\"SMA200\"], panel=0),\n",
        "]\n",
        "\n",
        "# Graficar\n",
        "mpf.plot(df_last,\n",
        "         type='candle',\n",
        "         style='yahoo',\n",
        "         addplot=apds,\n",
        "         volume=True,\n",
        "         title=f\"{ticker} - Últimos 300 días\")\n",
        "\n",
        "\n"
      ],
      "metadata": {
        "id": "wsVHvf_-r7a_"
      },
      "execution_count": null,
      "outputs": []
    },
    {
      "cell_type": "code",
      "source": [
        "# 10) Mostrar las últimas filas con señales\n",
        "display(df_signals.tail(20))"
      ],
      "metadata": {
        "id": "5rQBCnz5zRsv"
      },
      "execution_count": null,
      "outputs": []
    },
    {
      "cell_type": "code",
      "source": [
        "# =========================\n",
        "# Interpretación de señales\n",
        "# =========================\n",
        "\n",
        "alertas = []\n",
        "\n",
        "# Tendencia\n",
        "if df[\"SMA50\"].iloc[-1] > df[\"SMA200\"].iloc[-1]:\n",
        "    if df[\"RSI14\"].iloc[-1] > 50 and df[\"MACD\"].iloc[-1] > df[\"MACD_signal\"].iloc[-1]:\n",
        "        alertas.append(\"🟢 Tendencia alcista con fuerza\")\n",
        "    else:\n",
        "        alertas.append(\"🟢 Tendencia alcista moderada\")\n",
        "elif df[\"SMA50\"].iloc[-1] < df[\"SMA200\"].iloc[-1]:\n",
        "    if df[\"RSI14\"].iloc[-1] < 50 and df[\"MACD\"].iloc[-1] < df[\"MACD_signal\"].iloc[-1]:\n",
        "        alertas.append(\"🔴 Tendencia bajista con fuerza\")\n",
        "    else:\n",
        "        alertas.append(\"🔴 Tendencia bajista moderada\")\n",
        "\n",
        "# Sobrecompra / Sobreventa\n",
        "if df[\"RSI14\"].iloc[-1] > 70:\n",
        "    alertas.append(\"⚠️ Alta probabilidad de corrección (RSI en sobrecompra)\")\n",
        "elif df[\"RSI14\"].iloc[-1] < 30:\n",
        "    alertas.append(\"⚠️ Posible rebote técnico (RSI en sobreventa)\")\n",
        "\n",
        "# Volumen alto\n",
        "volumen_medio = df[\"Volume\"].tail(20).mean()\n",
        "if df[\"Volume\"].iloc[-1] > volumen_medio * 1.5:\n",
        "    alertas.append(\"📊 Volumen inusualmente alto (posible entrada de manos fuertes)\")\n",
        "\n",
        "# Cruce de medias\n",
        "if df[\"SMA50\"].iloc[-1] > df[\"SMA200\"].iloc[-1] and df[\"SMA50\"].iloc[-2] <= df[\"SMA200\"].iloc[-2]:\n",
        "    alertas.append(\"🚀 Golden Cross detectado (señal alcista fuerte)\")\n",
        "elif df[\"SMA50\"].iloc[-1] < df[\"SMA200\"].iloc[-1] and df[\"SMA50\"].iloc[-2] >= df[\"SMA200\"].iloc[-2]:\n",
        "    alertas.append(\"💀 Death Cross detectado (señal bajista fuerte)\")\n",
        "\n",
        "# Mostrar alertas\n",
        "print(\"\\n📢 ALERTAS DE TRADING:\")\n",
        "for alerta in alertas:\n",
        "    print(alerta)\n"
      ],
      "metadata": {
        "id": "ABTDBkTC6OUm"
      },
      "execution_count": null,
      "outputs": []
    },
    {
      "cell_type": "code",
      "source": [
        "# ----------------------------\n",
        "# Generador automático de niveles: entradas, stops y objetivos\n",
        "# ----------------------------\n",
        "import math\n",
        "\n",
        "# Parámetros (ajustables)\n",
        "lookback = 30            # ventana para max/min reciente (días)\n",
        "atr_multiplier_stop = 3  # stop = entry - k * ATR (para largos); ajusta según apetito de riesgo\n",
        "rr_targets = [2.0, 3.0]  # objetivos como múltiplos del riesgo (R:R)\n",
        "pullback_to_sma = True   # si True, sugerimos entrada en SMA50 como entrada conservadora\n",
        "\n",
        "# Últimos valores\n",
        "last_close = float(df[\"Close\"].iloc[-1])\n",
        "atr = float(df[\"ATR14\"].iloc[-1])\n",
        "sma50 = float(df[\"SMA50\"].iloc[-1])\n",
        "sma200 = float(df[\"SMA200\"].iloc[-1])\n",
        "\n",
        "# Swing high / low recientes (para fibs y resistencia/soporte)\n",
        "recent_high = float(df[\"Close\"].tail(lookback).max())\n",
        "recent_low = float(df[\"Close\"].tail(lookback).min())\n",
        "\n",
        "# Función para redondear niveles de precio (opcional, para que se vean \"limpios\")\n",
        "def round_price(x, tick=0.01):\n",
        "    # redondea a tick (ej. 0.01 para acciones con centavos)\n",
        "    return float(math.floor(x / tick) * tick)\n",
        "\n",
        "# Generar niveles para LARGO (si la tendencia lo permite)\n",
        "trade_levels = {}\n",
        "\n",
        "if sma50 > sma200:\n",
        "    # Tendencia alcista -> sugerencias de LONG\n",
        "    # Opción agresiva: entrada en mercado (precio actual)\n",
        "    entry_aggressive = last_close\n",
        "\n",
        "    # Opción conservadora: esperar pullback a SMA50 o a soporte reciente\n",
        "    entry_conservative = sma50 if pullback_to_sma else recent_low\n",
        "\n",
        "    # Stops basados en ATR\n",
        "    stop_aggressive = entry_aggressive - atr_multiplier_stop * atr\n",
        "    stop_conservative = entry_conservative - atr_multiplier_stop * atr\n",
        "\n",
        "    # Targets por R:R usando la distancia entry->stop\n",
        "    risk_aggr = entry_aggressive - stop_aggressive\n",
        "    risk_cons = entry_conservative - stop_conservative\n",
        "\n",
        "    targets_aggr = [entry_aggressive + rr * risk_aggr for rr in rr_targets]\n",
        "    targets_cons = [entry_conservative + rr * risk_cons for rr in rr_targets]\n",
        "\n",
        "    # Targets alternativos usando extensión fib desde recent_low -> recent_high\n",
        "    # (solo si recent_high > recent_low)\n",
        "    fib_targets = []\n",
        "    if recent_high > recent_low:\n",
        "        move = recent_high - recent_low\n",
        "        # extensiones comunes: 1.0 (máximo), 1.272, 1.618\n",
        "        fib_mults = [1.0, 1.272, 1.618]\n",
        "        fib_targets = [recent_high + m * move for m in fib_mults]\n",
        "\n",
        "    trade_levels[\"long\"] = {\n",
        "        \"trend\": \"bull\",\n",
        "        \"entry_aggressive\": round_price(entry_aggressive),\n",
        "        \"stop_aggressive\": round_price(stop_aggressive),\n",
        "        \"targets_aggressive\": [round_price(t) for t in targets_aggr],\n",
        "        \"entry_conservative\": round_price(entry_conservative),\n",
        "        \"stop_conservative\": round_price(stop_conservative),\n",
        "        \"targets_conservative\": [round_price(t) for t in targets_cons],\n",
        "        \"fib_targets\": [round_price(t) for t in fib_targets],\n",
        "        \"recent_low\": round_price(recent_low),\n",
        "        \"recent_high\": round_price(recent_high),\n",
        "        \"atr\": round_price(atr)\n",
        "    }\n",
        "else:\n",
        "    trade_levels[\"long\"] = {\"trend\": \"not_bull\", \"note\": \"No se recomienda entrada larga porque SMA50 <= SMA200\"}\n",
        "\n",
        "# Generar niveles para CORTO (si la tendencia lo permite)\n",
        "if sma50 < sma200:\n",
        "    entry_aggressive_s = last_close\n",
        "    entry_conservative_s = sma50 if pullback_to_sma else recent_high\n",
        "\n",
        "    stop_aggr_s = entry_aggressive_s + atr_multiplier_stop * atr\n",
        "    stop_cons_s = entry_conservative_s + atr_multiplier_stop * atr\n",
        "\n",
        "    risk_aggr_s = stop_aggr_s - entry_aggressive_s\n",
        "    risk_cons_s = stop_cons_s - entry_conservative_s\n",
        "\n",
        "    targets_aggr_s = [entry_aggressive_s - rr * risk_aggr_s for rr in rr_targets]\n",
        "    targets_cons_s = [entry_conservative_s - rr * risk_cons_s for rr in rr_targets]\n",
        "\n",
        "    fib_targets_s = []\n",
        "    if recent_high > recent_low:\n",
        "        move = recent_high - recent_low\n",
        "        fib_mults = [1.0, 1.272, 1.618]\n",
        "        fib_targets_s = [recent_low - m * move for m in fib_mults]\n",
        "\n",
        "    trade_levels[\"short\"] = {\n",
        "        \"trend\": \"bear\",\n",
        "        \"entry_aggressive\": round_price(entry_aggressive_s),\n",
        "        \"stop_aggressive\": round_price(stop_aggr_s),\n",
        "        \"targets_aggressive\": [round_price(t) for t in targets_aggr_s],\n",
        "        \"entry_conservative\": round_price(entry_conservative_s),\n",
        "        \"stop_conservative\": round_price(stop_cons_s),\n",
        "        \"targets_conservative\": [round_price(t) for t in targets_cons_s],\n",
        "        \"fib_targets\": [round_price(t) for t in fib_targets_s],\n",
        "        \"recent_low\": round_price(recent_low),\n",
        "        \"recent_high\": round_price(recent_high),\n",
        "        \"atr\": round_price(atr)\n",
        "    }\n",
        "else:\n",
        "    trade_levels[\"short\"] = {\"trend\": \"not_bear\", \"note\": \"No se recomienda entrada corta porque SMA50 >= SMA200\"}\n",
        "\n",
        "# Mostrar resultados (ejemplo)\n",
        "import json\n",
        "print(\"\\n🔎 Niveles sugeridos (auto):\")\n",
        "print(json.dumps(trade_levels, indent=2))\n"
      ],
      "metadata": {
        "id": "JZ4Xd2Eh6gYm"
      },
      "execution_count": null,
      "outputs": []
    }
  ]
}